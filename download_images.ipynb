{
 "cells": [
  {
   "cell_type": "code",
   "execution_count": 7,
   "id": "d3202378-8047-4ce1-98db-78b2cf38a88f",
   "metadata": {
    "tags": []
   },
   "outputs": [
    {
     "name": "stderr",
     "output_type": "stream",
     "text": [
      "/home/jovyan/.conda/envs/sea-ice-oscillations/lib/python3.11/site-packages/tqdm/auto.py:21: TqdmWarning: IProgress not found. Please update jupyter and ipywidgets. See https://ipywidgets.readthedocs.io/en/stable/user_install.html\n",
      "  from .autonotebook import tqdm as notebook_tqdm\n"
     ]
    }
   ],
   "source": [
    "from glob import glob\n",
    "import urllib\n",
    "import earthaccess\n",
    "from datatree import open_datatree\n",
    "from PIL import Image\n",
    "import xarray as xr\n",
    "from satpy.scene import Scene"
   ]
  },
  {
   "cell_type": "code",
   "execution_count": 12,
   "id": "bedabb55-b91b-471c-b9f9-a969484d1fa0",
   "metadata": {
    "tags": []
   },
   "outputs": [],
   "source": [
    "# functions to download data (just organizing stuff)\n",
    "def download_files():\n",
    "    #VNP29 = L2 ground classifications,\n",
    "    for short_name in [\"VNP02MOD\", \"VNP02IMG\", \"VNP02DNB\", \"VNP03MOD\", \"VNP03IMG\", \"VNP03DNB\", \"VNP29\"]:\n",
    "        results = earthaccess.search_data(\n",
    "        short_name=short_name, \n",
    "        cloud_hosted=True, \n",
    "        bounding_box=(-160.0, 73.0, -130.0, 77.0),\n",
    "        temporal=(\"2022-10-07\", \"2022-10-10\"),\n",
    "        count=20)\n",
    "        earthaccess.download(results, './')"
   ]
  },
  {
   "cell_type": "code",
   "execution_count": 14,
   "id": "fb4a517c-91f8-466d-a97c-2a0b62c2cbc5",
   "metadata": {
    "tags": []
   },
   "outputs": [
    {
     "name": "stdout",
     "output_type": "stream",
     "text": [
      "EARTHDATA_USERNAME and EARTHDATA_PASSWORD are not set in the current environment, try setting them or use a different strategy (netrc, interactive)\n",
      "No .netrc found in /home/jovyan\n"
     ]
    },
    {
     "name": "stdin",
     "output_type": "stream",
     "text": [
      "Enter your Earthdata Login username:  colinsauze\n",
      "Enter your Earthdata password:  ········\n"
     ]
    },
    {
     "name": "stdout",
     "output_type": "stream",
     "text": [
      "You're now authenticated with NASA Earthdata Login\n",
      "Using token with expiration date: 10/07/2023\n",
      "Using user provided credentials for EDL\n"
     ]
    },
    {
     "data": {
      "text/plain": [
       "<earthaccess.auth.Auth at 0x7f0db002df50>"
      ]
     },
     "execution_count": 14,
     "metadata": {},
     "output_type": "execute_result"
    }
   ],
   "source": [
    "earthaccess.login()"
   ]
  },
  {
   "cell_type": "code",
   "execution_count": 15,
   "id": "0ae21846-061e-433e-96af-99ab755b62d2",
   "metadata": {
    "tags": []
   },
   "outputs": [
    {
     "name": "stdout",
     "output_type": "stream",
     "text": [
      "Granules found: 80\n",
      " Getting 20 granules, approx download size: 2.24 GB\n"
     ]
    },
    {
     "name": "stderr",
     "output_type": "stream",
     "text": [
      "QUEUEING TASKS | : 100%|██████████| 20/20 [00:00<00:00, 4965.44it/s]\n"
     ]
    },
    {
     "name": "stdout",
     "output_type": "stream",
     "text": [
      "File VNP02MOD.A2022280.0124.001.2022280084328.nc already downloaded\n",
      "File VNP02MOD.A2022280.0124.002.2022280095811.nc already downloaded\n",
      "File VNP02MOD.A2022280.0130.002.2022280095910.nc already downloaded\n",
      "File VNP02MOD.A2022280.0130.001.2022280084330.nc already downloaded\n",
      "File VNP02MOD.A2022280.1000.001.2022280180432.nc already downloaded\n",
      "File VNP02MOD.A2022280.1000.002.2022280193057.nc already downloaded\n",
      "File VNP02MOD.A2022280.1006.001.2022280180434.nc already downloaded\n",
      "File VNP02MOD.A2022280.1006.002.2022280191323.nc already downloaded\n",
      "File VNP02MOD.A2022280.1142.001.2022280180434.nc already downloaded\n",
      "File VNP02MOD.A2022280.1142.002.2022280191449.nc already downloaded\n",
      "File VNP02MOD.A2022280.1324.001.2022280193159.nc already downloaded\n",
      "File VNP02MOD.A2022280.1506.002.2022280221136.nc already downloaded\n",
      "File VNP02MOD.A2022280.1506.001.2022280205856.nc already downloaded\n",
      "File VNP02MOD.A2022280.1642.001.2022280224702.nc already downloaded\n",
      "File VNP02MOD.A2022280.1324.002.2022280204344.nc already downloaded\n",
      "File VNP02MOD.A2022280.1642.002.2022281000219.nc already downloaded\n",
      "File VNP02MOD.A2022280.1648.001.2022280224702.nc already downloaded\n",
      "File VNP02MOD.A2022280.1824.001.2022281004454.nc already downloaded\n",
      "File VNP02MOD.A2022280.1648.002.2022280235223.nc already downloaded\n",
      "File VNP02MOD.A2022280.1824.002.2022281040207.nc already downloaded\n"
     ]
    },
    {
     "name": "stderr",
     "output_type": "stream",
     "text": [
      "PROCESSING TASKS | : 100%|██████████| 20/20 [00:00<00:00, 134865.08it/s]\n",
      "COLLECTING RESULTS | : 100%|██████████| 20/20 [00:00<00:00, 249660.95it/s]\n"
     ]
    },
    {
     "name": "stdout",
     "output_type": "stream",
     "text": [
      "Granules found: 80\n",
      " Getting 20 granules, approx download size: 2.9 GB\n"
     ]
    },
    {
     "name": "stderr",
     "output_type": "stream",
     "text": [
      "QUEUEING TASKS | : 100%|██████████| 20/20 [00:00<00:00, 5285.83it/s]\n"
     ]
    },
    {
     "name": "stdout",
     "output_type": "stream",
     "text": [
      "File VNP02IMG.A2022280.0124.001.2022280084328.nc already downloaded\n",
      "File VNP02IMG.A2022280.0124.002.2022280095811.nc already downloaded\n",
      "File VNP02IMG.A2022280.0130.002.2022280095910.nc already downloaded\n",
      "File VNP02IMG.A2022280.0130.001.2022280084330.nc already downloaded\n",
      "File VNP02IMG.A2022280.1000.001.2022280180432.nc already downloaded\n",
      "File VNP02IMG.A2022280.1000.002.2022280193057.nc already downloaded\n",
      "File VNP02IMG.A2022280.1006.001.2022280180434.nc already downloaded\n",
      "File VNP02IMG.A2022280.1006.002.2022280191323.nc already downloaded\n",
      "File VNP02IMG.A2022280.1142.001.2022280180434.nc already downloaded\n",
      "File VNP02IMG.A2022280.1142.002.2022280191449.nc already downloaded\n",
      "File VNP02IMG.A2022280.1324.001.2022280193159.nc already downloaded\n",
      "File VNP02IMG.A2022280.1324.002.2022280204344.nc already downloaded\n",
      "File VNP02IMG.A2022280.1506.001.2022280205856.nc already downloaded\n",
      "File VNP02IMG.A2022280.1506.002.2022280221136.nc already downloaded\n",
      "File VNP02IMG.A2022280.1642.001.2022280224702.nc already downloaded\n",
      "File VNP02IMG.A2022280.1648.002.2022280235223.nc already downloaded\n",
      "File VNP02IMG.A2022280.1648.001.2022280224702.nc already downloaded\n",
      "File VNP02IMG.A2022280.1642.002.2022281000219.nc already downloaded\n",
      "File VNP02IMG.A2022280.1824.002.2022281040207.nc already downloaded\n",
      "File VNP02IMG.A2022280.1824.001.2022281004454.nc already downloaded\n"
     ]
    },
    {
     "name": "stderr",
     "output_type": "stream",
     "text": [
      "PROCESSING TASKS | : 100%|██████████| 20/20 [00:00<00:00, 118149.41it/s]\n",
      "COLLECTING RESULTS | : 100%|██████████| 20/20 [00:00<00:00, 257319.26it/s]\n"
     ]
    },
    {
     "name": "stdout",
     "output_type": "stream",
     "text": [
      "Granules found: 82\n",
      " Getting 20 granules, approx download size: 0.75 GB\n"
     ]
    },
    {
     "name": "stderr",
     "output_type": "stream",
     "text": [
      "QUEUEING TASKS | : 100%|██████████| 20/20 [00:00<00:00, 5635.23it/s]\n"
     ]
    },
    {
     "name": "stdout",
     "output_type": "stream",
     "text": [
      "File VNP02DNB.A2022280.0124.001.2022280084328.nc already downloaded\n",
      "File VNP02DNB.A2022280.0124.002.2022280095811.nc already downloaded\n",
      "File VNP02DNB.A2022280.0130.002.2022280095910.nc already downloaded\n",
      "File VNP02DNB.A2022280.0130.001.2022280084330.nc already downloaded\n",
      "File VNP02DNB.A2022280.0818.002.2022280174641.nc already downloaded\n",
      "File VNP02DNB.A2022280.0818.001.2022280164059.nc already downloaded\n",
      "File VNP02DNB.A2022280.1000.002.2022280193057.nc already downloaded\n",
      "File VNP02DNB.A2022280.1006.001.2022280180434.nc already downloaded\n",
      "File VNP02DNB.A2022280.1142.002.2022280191449.nc already downloaded\n",
      "File VNP02DNB.A2022280.1000.001.2022280180432.nc already downloaded\n",
      "File VNP02DNB.A2022280.1142.001.2022280180434.nc already downloaded\n",
      "File VNP02DNB.A2022280.1006.002.2022280191323.nc already downloaded\n",
      "File VNP02DNB.A2022280.1506.001.2022280205856.nc already downloaded\n",
      "File VNP02DNB.A2022280.1506.002.2022280221136.nc already downloaded\n",
      "File VNP02DNB.A2022280.1324.001.2022280193159.nc already downloaded\n",
      "File VNP02DNB.A2022280.1642.001.2022280224702.nc already downloaded\n",
      "File VNP02DNB.A2022280.1642.002.2022281000219.nc already downloaded\n",
      "File VNP02DNB.A2022280.1648.002.2022280235223.nc already downloaded\n",
      "File VNP02DNB.A2022280.1648.001.2022280224702.nc already downloaded\n",
      "File VNP02DNB.A2022280.1324.002.2022280204344.nc already downloaded\n"
     ]
    },
    {
     "name": "stderr",
     "output_type": "stream",
     "text": [
      "PROCESSING TASKS | : 100%|██████████| 20/20 [00:00<00:00, 145635.56it/s]\n",
      "COLLECTING RESULTS | : 100%|██████████| 20/20 [00:00<00:00, 199728.76it/s]\n"
     ]
    },
    {
     "name": "stdout",
     "output_type": "stream",
     "text": [
      "Granules found: 80\n",
      " Getting 20 granules, approx download size: 1.0 GB\n"
     ]
    },
    {
     "name": "stderr",
     "output_type": "stream",
     "text": [
      "QUEUEING TASKS | : 100%|██████████| 20/20 [00:00<00:00, 5899.58it/s]\n"
     ]
    },
    {
     "name": "stdout",
     "output_type": "stream",
     "text": [
      "File VNP03MOD.A2022280.0124.001.2022280080859.nc already downloaded\n",
      "File VNP03MOD.A2022280.0124.002.2022280092500.nc already downloaded\n",
      "File VNP03MOD.A2022280.0130.002.2022280092458.nc already downloaded\n",
      "File VNP03MOD.A2022280.0130.001.2022280080901.nc already downloaded\n",
      "File VNP03MOD.A2022280.1000.002.2022280185557.nc already downloaded\n",
      "File VNP03MOD.A2022280.1000.001.2022280174704.nc already downloaded\n",
      "File VNP03MOD.A2022280.1006.002.2022280185555.nc already downloaded\n",
      "File VNP03MOD.A2022280.1142.001.2022280174700.nc already downloaded\n",
      "File VNP03MOD.A2022280.1006.001.2022280174658.nc already downloaded\n",
      "File VNP03MOD.A2022280.1142.002.2022280185554.nc already downloaded\n",
      "File VNP03MOD.A2022280.1324.001.2022280191357.nc already downloaded\n",
      "File VNP03MOD.A2022280.1506.001.2022280204338.nc already downloaded\n",
      "File VNP03MOD.A2022280.1324.002.2022280202002.nc already downloaded\n",
      "File VNP03MOD.A2022280.1642.001.2022280222954.nc already downloaded\n",
      "File VNP03MOD.A2022280.1642.002.2022280233603.nc already downloaded\n",
      "File VNP03MOD.A2022280.1506.002.2022280215156.nc already downloaded\n",
      "File VNP03MOD.A2022280.1648.001.2022280222957.nc already downloaded\n",
      "File VNP03MOD.A2022280.1648.002.2022280232856.nc already downloaded\n",
      "File VNP03MOD.A2022280.1824.002.2022281033412.nc already downloaded\n",
      "File VNP03MOD.A2022280.1824.001.2022281003003.nc already downloaded\n"
     ]
    },
    {
     "name": "stderr",
     "output_type": "stream",
     "text": [
      "PROCESSING TASKS | : 100%|██████████| 20/20 [00:00<00:00, 145131.63it/s]\n",
      "COLLECTING RESULTS | : 100%|██████████| 20/20 [00:00<00:00, 277768.48it/s]\n"
     ]
    },
    {
     "name": "stdout",
     "output_type": "stream",
     "text": [
      "Granules found: 80\n",
      " Getting 20 granules, approx download size: 3.18 GB\n"
     ]
    },
    {
     "name": "stderr",
     "output_type": "stream",
     "text": [
      "QUEUEING TASKS | : 100%|██████████| 20/20 [00:00<00:00, 5380.42it/s]\n"
     ]
    },
    {
     "name": "stdout",
     "output_type": "stream",
     "text": [
      "File VNP03IMG.A2022280.0124.001.2022280080859.nc already downloaded\n",
      "File VNP03IMG.A2022280.0124.002.2022280092500.nc already downloaded\n",
      "File VNP03IMG.A2022280.0130.001.2022280080901.nc already downloaded\n",
      "File VNP03IMG.A2022280.0130.002.2022280092458.nc already downloaded\n",
      "File VNP03IMG.A2022280.1000.001.2022280174704.nc already downloaded\n",
      "File VNP03IMG.A2022280.1006.001.2022280174658.nc already downloaded\n",
      "File VNP03IMG.A2022280.1000.002.2022280185557.nc already downloaded\n",
      "File VNP03IMG.A2022280.1006.002.2022280185555.nc already downloaded\n",
      "File VNP03IMG.A2022280.1142.001.2022280174700.nc already downloaded\n",
      "File VNP03IMG.A2022280.1142.002.2022280185554.nc already downloaded\n",
      "File VNP03IMG.A2022280.1324.001.2022280191357.nc already downloaded\n",
      "File VNP03IMG.A2022280.1324.002.2022280202002.nc already downloaded\n",
      "File VNP03IMG.A2022280.1506.001.2022280204338.nc already downloaded\n",
      "File VNP03IMG.A2022280.1506.002.2022280215156.nc already downloaded\n",
      "File VNP03IMG.A2022280.1642.001.2022280222954.nc already downloaded\n",
      "File VNP03IMG.A2022280.1642.002.2022280233603.nc already downloaded\n",
      "File VNP03IMG.A2022280.1824.001.2022281003003.nc already downloaded\n",
      "File VNP03IMG.A2022280.1824.002.2022281033412.nc already downloaded\n",
      "File VNP03IMG.A2022280.1648.002.2022280232856.nc already downloaded\n",
      "File VNP03IMG.A2022280.1648.001.2022280222957.nc already downloaded\n"
     ]
    },
    {
     "name": "stderr",
     "output_type": "stream",
     "text": [
      "PROCESSING TASKS | : 100%|██████████| 20/20 [00:00<00:00, 127486.44it/s]\n",
      "COLLECTING RESULTS | : 100%|██████████| 20/20 [00:00<00:00, 73648.88it/s]\n"
     ]
    },
    {
     "name": "stdout",
     "output_type": "stream",
     "text": [
      "Granules found: 82\n",
      " Getting 20 granules, approx download size: 1.23 GB\n"
     ]
    },
    {
     "name": "stderr",
     "output_type": "stream",
     "text": [
      "QUEUEING TASKS | : 100%|██████████| 20/20 [00:00<00:00, 5680.26it/s]\n"
     ]
    },
    {
     "name": "stdout",
     "output_type": "stream",
     "text": [
      "File VNP03DNB.A2022280.0124.001.2022280080859.nc already downloaded\n",
      "File VNP03DNB.A2022280.0124.002.2022280092500.nc already downloaded\n",
      "File VNP03DNB.A2022280.0130.001.2022280080901.nc already downloaded\n",
      "File VNP03DNB.A2022280.0130.002.2022280092458.nc already downloaded\n",
      "File VNP03DNB.A2022280.0818.001.2022280162323.nc already downloaded\n",
      "File VNP03DNB.A2022280.1000.002.2022280185557.nc already downloaded\n",
      "File VNP03DNB.A2022280.1000.001.2022280174704.nc already downloaded\n",
      "File VNP03DNB.A2022280.0818.002.2022280171502.nc already downloaded\n",
      "File VNP03DNB.A2022280.1006.001.2022280174658.nc already downloaded\n",
      "File VNP03DNB.A2022280.1006.002.2022280185555.nc already downloaded\n",
      "File VNP03DNB.A2022280.1142.001.2022280174700.nc already downloaded\n",
      "File VNP03DNB.A2022280.1142.002.2022280185554.nc already downloaded\n",
      "File VNP03DNB.A2022280.1506.001.2022280204338.nc already downloaded\n",
      "File VNP03DNB.A2022280.1324.001.2022280191357.nc already downloaded\n",
      "File VNP03DNB.A2022280.1324.002.2022280202002.nc already downloaded\n",
      "File VNP03DNB.A2022280.1506.002.2022280215156.nc already downloaded\n",
      "File VNP03DNB.A2022280.1642.001.2022280222954.nc already downloaded\n",
      "File VNP03DNB.A2022280.1642.002.2022280233603.nc already downloaded\n",
      "File VNP03DNB.A2022280.1648.001.2022280222957.nc already downloaded\n",
      "File VNP03DNB.A2022280.1648.002.2022280232856.nc already downloaded\n"
     ]
    },
    {
     "name": "stderr",
     "output_type": "stream",
     "text": [
      "PROCESSING TASKS | : 100%|██████████| 20/20 [00:00<00:00, 129055.51it/s]\n",
      "COLLECTING RESULTS | : 100%|██████████| 20/20 [00:00<00:00, 225500.22it/s]\n"
     ]
    },
    {
     "name": "stdout",
     "output_type": "stream",
     "text": [
      "Granules found: 72\n",
      " Getting 20 granules, approx download size: 4.84 GB\n"
     ]
    },
    {
     "name": "stderr",
     "output_type": "stream",
     "text": [
      "QUEUEING TASKS | : 100%|██████████| 20/20 [00:00<00:00, 2143.51it/s]\n",
      "PROCESSING TASKS | : 100%|██████████| 20/20 [00:23<00:00,  1.20s/it]\n",
      "COLLECTING RESULTS | : 100%|██████████| 20/20 [00:00<00:00, 160701.30it/s]\n"
     ]
    }
   ],
   "source": [
    "download_files()"
   ]
  },
  {
   "cell_type": "code",
   "execution_count": 23,
   "id": "392fa1ad-94bf-4cdb-b62e-0aabc966b149",
   "metadata": {
    "tags": []
   },
   "outputs": [
    {
     "name": "stdout",
     "output_type": "stream",
     "text": [
      "VNP02IMG.A2022280.1324.001.2022280193159.nc\n",
      "Ice 0.0% Cloud 0.0%\n"
     ]
    },
    {
     "name": "stderr",
     "output_type": "stream",
     "text": [
      "Don't know how to open the following files: {'VNP29.A2022280.1324.001.2022280200953.nc'}\n"
     ]
    },
    {
     "name": "stdout",
     "output_type": "stream",
     "text": [
      "processing VNP02IMG.A2022280.1324.001.2022280193159.nc\n",
      "Lat/Lon bounds (S,N,E,W): 60.381695 90.0 180.0 -180.0 \n",
      "\n",
      "VNP02IMG.A2022280.1506.001.2022280205856.nc\n",
      "Ice 0.0% Cloud 0.0%\n"
     ]
    },
    {
     "name": "stderr",
     "output_type": "stream",
     "text": [
      "Don't know how to open the following files: {'VNP29.A2022280.1506.001.2022280211538.nc'}\n"
     ]
    },
    {
     "name": "stdout",
     "output_type": "stream",
     "text": [
      "processing VNP02IMG.A2022280.1506.001.2022280205856.nc\n",
      "Lat/Lon bounds (S,N,E,W): 59.233646 90.0 180.0 -180.0 \n",
      "\n",
      "VNP02IMG.A2022280.1000.001.2022280180432.nc\n",
      "Ice 0.6% Cloud 99.4%\n"
     ]
    },
    {
     "name": "stderr",
     "output_type": "stream",
     "text": [
      "Don't know how to open the following files: {'VNP29.A2022280.1000.001.2022280183701.nc'}\n"
     ]
    },
    {
     "name": "stdout",
     "output_type": "stream",
     "text": [
      "processing VNP02IMG.A2022280.1000.001.2022280180432.nc\n",
      "Lat/Lon bounds (S,N,E,W): 62.55083 90.0 180.0 -180.0 \n",
      "\n",
      "VNP02IMG.A2022280.1142.001.2022280180434.nc\n",
      "Ice 0.4% Cloud 99.6%\n"
     ]
    },
    {
     "name": "stderr",
     "output_type": "stream",
     "text": [
      "Don't know how to open the following files: {'VNP29.A2022280.1142.001.2022280194921.nc'}\n"
     ]
    },
    {
     "name": "stdout",
     "output_type": "stream",
     "text": [
      "processing VNP02IMG.A2022280.1142.001.2022280180434.nc\n",
      "Lat/Lon bounds (S,N,E,W): 61.496986 90.0 180.0 -180.0 \n",
      "\n",
      "VNP02IMG.A2022280.1824.001.2022281004454.nc\n",
      "Ice 18.2% Cloud 78.8%\n"
     ]
    },
    {
     "name": "stderr",
     "output_type": "stream",
     "text": [
      "Don't know how to open the following files: {'VNP29.A2022280.1824.001.2022281011950.nc'}\n"
     ]
    },
    {
     "name": "stdout",
     "output_type": "stream",
     "text": [
      "processing VNP02IMG.A2022280.1824.001.2022281004454.nc\n",
      "Lat/Lon bounds (S,N,E,W): 61.282104 90.0 180.0 -180.0 \n",
      "\n",
      "VNP02IMG.A2022280.1824.001.2022281004454.nc is a daytime image\n"
     ]
    },
    {
     "name": "stderr",
     "output_type": "stream",
     "text": [
      "/home/jovyan/.conda/envs/sea-ice-oscillations/lib/python3.11/site-packages/dask/array/chunk.py:278: RuntimeWarning: invalid value encountered in cast\n",
      "  return x.astype(astype_dtype, **kwargs)\n"
     ]
    },
    {
     "name": "stdout",
     "output_type": "stream",
     "text": [
      "VNP02IMG.A2022280.1642.001.2022280224702.nc\n",
      "Ice 4.5% Cloud 89.1%\n"
     ]
    },
    {
     "name": "stderr",
     "output_type": "stream",
     "text": [
      "Don't know how to open the following files: {'VNP29.A2022280.1642.001.2022280231824.nc'}\n"
     ]
    },
    {
     "name": "stdout",
     "output_type": "stream",
     "text": [
      "processing VNP02IMG.A2022280.1642.001.2022280224702.nc\n",
      "Lat/Lon bounds (S,N,E,W): 60.11919 90.0 180.0 -180.0 \n",
      "\n",
      "VNP02IMG.A2022280.1642.001.2022280224702.nc is a daytime image\n"
     ]
    },
    {
     "name": "stderr",
     "output_type": "stream",
     "text": [
      "/home/jovyan/.conda/envs/sea-ice-oscillations/lib/python3.11/site-packages/dask/array/chunk.py:278: RuntimeWarning: invalid value encountered in cast\n",
      "  return x.astype(astype_dtype, **kwargs)\n"
     ]
    },
    {
     "name": "stdout",
     "output_type": "stream",
     "text": [
      "VNP02IMG.A2022280.1648.001.2022280224702.nc\n",
      "Ice 0.0% Cloud 0.0%\n"
     ]
    },
    {
     "name": "stderr",
     "output_type": "stream",
     "text": [
      "Don't know how to open the following files: {'VNP29.A2022280.1648.001.2022280231708.nc'}\n"
     ]
    },
    {
     "name": "stdout",
     "output_type": "stream",
     "text": [
      "processing VNP02IMG.A2022280.1648.001.2022280224702.nc\n",
      "Lat/Lon bounds (S,N,E,W): 57.978683 88.45395 -144.55739 55.17612 \n",
      "\n",
      "VNP02IMG.A2022280.0124.001.2022280084328.nc\n",
      "Ice 1.0% Cloud 68.6%\n"
     ]
    },
    {
     "name": "stderr",
     "output_type": "stream",
     "text": [
      "Don't know how to open the following files: {'VNP29.A2022280.0124.001.2022280093242.nc'}\n"
     ]
    },
    {
     "name": "stdout",
     "output_type": "stream",
     "text": [
      "processing VNP02IMG.A2022280.0124.001.2022280084328.nc\n",
      "Lat/Lon bounds (S,N,E,W): 48.024307 75.77331 -159.40761 121.25389 \n",
      "\n",
      "VNP02IMG.A2022280.0124.001.2022280084328.nc is a daytime image\n"
     ]
    },
    {
     "name": "stderr",
     "output_type": "stream",
     "text": [
      "/home/jovyan/.conda/envs/sea-ice-oscillations/lib/python3.11/site-packages/dask/array/chunk.py:278: RuntimeWarning: invalid value encountered in cast\n",
      "  return x.astype(astype_dtype, **kwargs)\n"
     ]
    },
    {
     "name": "stdout",
     "output_type": "stream",
     "text": [
      "VNP02IMG.A2022280.0130.001.2022280084330.nc\n",
      "Ice 5.0% Cloud 94.1%\n"
     ]
    },
    {
     "name": "stderr",
     "output_type": "stream",
     "text": [
      "Don't know how to open the following files: {'VNP29.A2022280.0130.001.2022280092917.nc'}\n"
     ]
    },
    {
     "name": "stdout",
     "output_type": "stream",
     "text": [
      "processing VNP02IMG.A2022280.0130.001.2022280084330.nc\n",
      "Lat/Lon bounds (S,N,E,W): 63.230564 90.0 180.0 -180.0 \n",
      "\n",
      "VNP02IMG.A2022280.1006.001.2022280180434.nc\n"
     ]
    },
    {
     "ename": "IndexError",
     "evalue": "list index out of range",
     "output_type": "error",
     "traceback": [
      "\u001b[0;31m---------------------------------------------------------------------------\u001b[0m",
      "\u001b[0;31mIndexError\u001b[0m                                Traceback (most recent call last)",
      "Cell \u001b[0;32mIn[23], line 19\u001b[0m\n\u001b[1;32m     16\u001b[0m fileglob \u001b[38;5;241m=\u001b[39m parts[\u001b[38;5;241m1\u001b[39m] \u001b[38;5;241m+\u001b[39m \u001b[38;5;124m\"\u001b[39m\u001b[38;5;124m.\u001b[39m\u001b[38;5;124m\"\u001b[39m \u001b[38;5;241m+\u001b[39m parts[\u001b[38;5;241m2\u001b[39m]\n\u001b[1;32m     18\u001b[0m \u001b[38;5;66;03m# get the ice coverage from the equivalent L2 file\u001b[39;00m\n\u001b[0;32m---> 19\u001b[0m ds \u001b[38;5;241m=\u001b[39m xr\u001b[38;5;241m.\u001b[39mopen_dataset(\u001b[43mglob\u001b[49m\u001b[43m(\u001b[49m\u001b[38;5;124;43m\"\u001b[39;49m\u001b[38;5;124;43mVNP29.\u001b[39;49m\u001b[38;5;124;43m\"\u001b[39;49m\u001b[43m \u001b[49m\u001b[38;5;241;43m+\u001b[39;49m\u001b[43m \u001b[49m\u001b[43mfileglob\u001b[49m\u001b[43m \u001b[49m\u001b[38;5;241;43m+\u001b[39;49m\u001b[43m \u001b[49m\u001b[38;5;124;43m\"\u001b[39;49m\u001b[38;5;124;43m.001*nc\u001b[39;49m\u001b[38;5;124;43m\"\u001b[39;49m\u001b[43m)\u001b[49m\u001b[43m[\u001b[49m\u001b[38;5;241;43m0\u001b[39;49m\u001b[43m]\u001b[49m)\n\u001b[1;32m     20\u001b[0m \u001b[38;5;28mprint\u001b[39m(\u001b[38;5;124m\"\u001b[39m\u001b[38;5;124mIce\u001b[39m\u001b[38;5;124m\"\u001b[39m,ds\u001b[38;5;241m.\u001b[39mIceCover,\u001b[38;5;124m\"\u001b[39m\u001b[38;5;124mCloud\u001b[39m\u001b[38;5;124m\"\u001b[39m,ds\u001b[38;5;241m.\u001b[39mCloudCover)\n\u001b[1;32m     21\u001b[0m \u001b[38;5;66;03m#if ds.AlgorithmType == \"OPS\":\u001b[39;00m\n\u001b[1;32m     22\u001b[0m \u001b[38;5;66;03m#    ds1 = xr.open_dataset(file, group=\"SeaIceCover_Data\")\u001b[39;00m\n\u001b[1;32m     23\u001b[0m \u001b[38;5;66;03m#    ds1[\"SeaIceCover_Map\"].plot()       \u001b[39;00m\n",
      "\u001b[0;31mIndexError\u001b[0m: list index out of range"
     ]
    }
   ],
   "source": [
    "# finds the day/night/both images\n",
    "\n",
    "def png2jpg(fileprefix):\n",
    "    ''' converts a file from a png to a jpg. \n",
    "    Expects a parameter fileprefix, which is the filename without an extension'''\n",
    "    im1 = Image.open(fileprefix + '.png')\n",
    "    rgb_im = im1.convert('RGB')\n",
    "    rgb_im.save(fileprefix + '.jpg')\n",
    "\n",
    "for file in glob('*VNP02IMG*.001.*nc'):\n",
    "    dt = open_datatree(file)\n",
    "    print(file)\n",
    "    \n",
    "    # get the identifer part of the filename\n",
    "    parts = file.split('.')\n",
    "    fileglob = parts[1] + \".\" + parts[2]\n",
    "    \n",
    "    # get the ice coverage from the equivalent L2 file\n",
    "    ds = xr.open_dataset(glob(\"VNP29.\" + fileglob + \".001*nc\")[0])\n",
    "    print(\"Ice\",ds.IceCover,\"Cloud\",ds.CloudCover)\n",
    "    #if ds.AlgorithmType == \"OPS\":\n",
    "    #    ds1 = xr.open_dataset(file, group=\"SeaIceCover_Data\")\n",
    "    #    ds1[\"SeaIceCover_Map\"].plot()       \n",
    "    \n",
    "    scn = Scene(filenames=glob('VNP*' + fileglob + '.001*nc'), reader='viirs_l1b')\n",
    "    print(\"processing\",file)\n",
    "    print(\"Lat/Lon bounds (S,N,E,W):\",dt.attrs['SouthBoundingCoordinate'],\n",
    "          dt.attrs['NorthBoundingCoordinate'],\n",
    "          dt.attrs['EastBoundingCoordinate'],\n",
    "          dt.attrs['WestBoundingCoordinate'],\"\\n\")\n",
    "\n",
    "    if dt.attrs['DayNightFlag'] == \"Day\":\n",
    "        print(file,\"is a daytime image\")\n",
    "        scn.load(['true_color_lowres'])\n",
    "        local_scene=scn.resample()\n",
    "        #cropped_scn = local_scene.crop(ll_bbox=(-130., 73., -160., 77.))\n",
    "        local_scene.save_dataset('true_color_lowres', filename=fileglob + '.png')\n",
    "        png2jpg(fileglob) \n",
    "    #else:\n",
    "    #    print(file,\"is a nighttime image\")\n",
    "    #    this doesn't work, wrong name for the image (or possibly wrong data loaded)\n",
    "    #    scn.load(['danb'])\n",
    "    #    local_scene=scn.resample()\n",
    "    #    #cropped_scn = local_scene.crop(ll_bbox=(-130., 73., -160., 77.))\n",
    "    #    local_scene.save_dataset('danb', filename=fileglob + '.png')\n",
    "    #    png2jpg(fileglob)\n"
   ]
  }
 ],
 "metadata": {
  "kernelspec": {
   "display_name": "Python [conda env:.conda-sea-ice-oscillations]",
   "language": "python",
   "name": "conda-env-.conda-sea-ice-oscillations-py"
  },
  "language_info": {
   "codemirror_mode": {
    "name": "ipython",
    "version": 3
   },
   "file_extension": ".py",
   "mimetype": "text/x-python",
   "name": "python",
   "nbconvert_exporter": "python",
   "pygments_lexer": "ipython3",
   "version": "3.11.4"
  }
 },
 "nbformat": 4,
 "nbformat_minor": 5
}
